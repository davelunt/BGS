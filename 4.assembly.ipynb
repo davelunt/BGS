{
 "cells": [
  {
   "attachments": {},
   "cell_type": "markdown",
   "metadata": {},
   "source": [
    "# Assembling the genome and QC"
   ]
  },
  {
   "attachments": {},
   "cell_type": "markdown",
   "metadata": {},
   "source": [
    "In this notebook we are going to assemble the QC-ed sequence data you have just produced using the program Flye."
   ]
  },
  {
   "attachments": {},
   "cell_type": "markdown",
   "metadata": {},
   "source": [
    "## 1. The Flye assembler"
   ]
  },
  {
   "attachments": {},
   "cell_type": "markdown",
   "metadata": {},
   "source": [
    "[Flye](https://github.com/fenderglass/Flye/blob/flye/docs/USAGE.md) is one of many genome assemblers, but is very efficient for assembling bacterial genomes. You are going to use this to process your fastq data files into 1 or more contigs representing the E. coli genome."
   ]
  },
  {
   "attachments": {},
   "cell_type": "markdown",
   "metadata": {},
   "source": [
    "### 1.1 Check Flye is installed correctly\n",
    "\n",
    "test your installation of Flye\n",
    "\n",
    "`flye -help`\n",
    "\n",
    "You should get Flye help written out."
   ]
  },
  {
   "attachments": {},
   "cell_type": "markdown",
   "metadata": {},
   "source": [
    "### 1.2 Developing your assembly command\n",
    "\n",
    "Read the help, and read the [Flye documentation](https://github.com/fenderglass/Flye/blob/flye/docs/USAGE.md).\n",
    "\n",
    "Now write your command to assemble the data. You will have to tell Flye what format your data is, where the files are and what they are called, where to write the output and how many threads to use in running the program.\n",
    "\n",
    "Flye needs to know:\n",
    "\n",
    "- that your reads are nanopore raw (--nano-raw)\n",
    "- the genome size (-g) of E. coli - you will need to find this"
   ]
  },
  {
   "attachments": {},
   "cell_type": "markdown",
   "metadata": {},
   "source": [
    "### 1.3 Running the Flye assembler"
   ]
  },
  {
   "attachments": {},
   "cell_type": "markdown",
   "metadata": {},
   "source": [
    "Once you have written your command check it with one of us.\n",
    "\n",
    "Yiu may then wish to run Flye and assemble your genome"
   ]
  },
  {
   "attachments": {},
   "cell_type": "markdown",
   "metadata": {},
   "source": [
    "### 1.4 Flye output"
   ]
  },
  {
   "attachments": {},
   "cell_type": "markdown",
   "metadata": {},
   "source": [
    "You are expecting Flye to write a number of file once it has completed.\n",
    "\n",
    "From the Flye docs, the main output files are:\n",
    "\n",
    "1. **assembly.fasta** - Final assembly. Contains contigs and possibly scaffolds (see below).\n",
    "2. **assembly_graph.{gfa|gv}** - Final repeat graph. Note that the edge sequences might be different (shorter) than contig sequences, because contigs might include multiple graph edges (see below).\n",
    "3. **assembly_info.txt** - Extra information about contigs (such as length or coverage)."
   ]
  },
  {
   "attachments": {},
   "cell_type": "markdown",
   "metadata": {},
   "source": [
    "## 2. Assembly QC"
   ]
  },
  {
   "attachments": {},
   "cell_type": "markdown",
   "metadata": {},
   "source": [
    "How well have you assembled your data into a genome?"
   ]
  },
  {
   "attachments": {},
   "cell_type": "markdown",
   "metadata": {},
   "source": [
    "The **assembly_info.txt** file written by the asssembler will give you some statistics about your new genome."
   ]
  },
  {
   "cell_type": "markdown",
   "metadata": {},
   "source": []
  }
 ],
 "metadata": {
  "language_info": {
   "name": "python"
  },
  "orig_nbformat": 4
 },
 "nbformat": 4,
 "nbformat_minor": 2
}
