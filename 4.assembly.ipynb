{
 "cells": [
  {
   "attachments": {},
   "cell_type": "markdown",
   "metadata": {},
   "source": [
    "# Assembling the genome"
   ]
  },
  {
   "attachments": {},
   "cell_type": "markdown",
   "metadata": {},
   "source": [
    "In this notebook we are going to assemble the QC-ed sequence data you have just produced using the program FLYE."
   ]
  },
  {
   "attachments": {},
   "cell_type": "markdown",
   "metadata": {},
   "source": [
    "## 1. The FLYE assembler"
   ]
  },
  {
   "attachments": {},
   "cell_type": "markdown",
   "metadata": {},
   "source": [
    "[FLYE](https://github.com/fenderglass/Flye/blob/flye/docs/USAGE.md) is one of many genome assemblers, but is very efficient for assembling bacterial genomes. You are going to use this to process your fastq data files into 1 or more contigs representing the E. coli genome."
   ]
  },
  {
   "attachments": {},
   "cell_type": "markdown",
   "metadata": {},
   "source": [
    "### 1.1 Check Flye is installed correctly\n",
    "\n",
    "test your installation of Flye\n",
    "\n",
    "`flye -help`\n",
    "\n",
    "You should get Flye help written out."
   ]
  },
  {
   "attachments": {},
   "cell_type": "markdown",
   "metadata": {},
   "source": [
    "### 1.2 Developing your assembly command\n",
    "\n",
    "Read the help, and read the [Flye documentation](https://github.com/fenderglass/Flye/blob/flye/docs/USAGE.md).\n",
    "\n",
    "Now assemble your command to assemble the data. You will have to tell Flye what format your data is, where the files are and what they are called, where to write the output and how many threads to use in running the program.\n",
    "\n",
    "Once you have written your command check it with one of us.\n"
   ]
  },
  {
   "cell_type": "markdown",
   "metadata": {},
   "source": []
  }
 ],
 "metadata": {
  "language_info": {
   "name": "python"
  },
  "orig_nbformat": 4
 },
 "nbformat": 4,
 "nbformat_minor": 2
}
