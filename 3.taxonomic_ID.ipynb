{
 "cells": [
  {
   "attachments": {},
   "cell_type": "markdown",
   "metadata": {},
   "source": [
    "# What have we sequenced?"
   ]
  },
  {
   "attachments": {},
   "cell_type": "markdown",
   "metadata": {},
   "source": [
    "We intended to sequence an E. coli strain provided to us. This turned into 2 strains each with a unique morphology on plates. But how do we know that this is E. coli at all? Hadn't we better check?\n",
    "\n",
    "Conducting a taxonomic analysis of our sequence data is good standard practice in all areas of genomics. This is not just because we may have got a mis-identified sample, it also checks for contamination. This could be contamination by other bacteria but it also checks that our sequence reads aren't human, from lab contamination when preparing the DNA."
   ]
  },
  {
   "attachments": {},
   "cell_type": "markdown",
   "metadata": {},
   "source": [
    "## 1.1 Kraken2 kmer analysis"
   ]
  },
  {
   "attachments": {},
   "cell_type": "markdown",
   "metadata": {},
   "source": [
    "![image](images/kraken2.png)"
   ]
  },
  {
   "attachments": {},
   "cell_type": "markdown",
   "metadata": {},
   "source": [
    "[Kraken2](https://ccb.jhu.edu/software/kraken2/) is software for rapid taxonomic analysis of DNA sequence data.\n",
    "\n",
    "Wood DE, Lu J, Langmead B. Improved metagenomic analysis with Kraken 2. Genome Biol. 2019;20: 257. doi:[10.1186/s13059-019-1891-0](https:dx.doi.org/10.1186/s13059-019-1891-0)"
   ]
  },
  {
   "attachments": {},
   "cell_type": "markdown",
   "metadata": {},
   "source": [
    "Kraken2 will require access to:\n",
    "\n",
    "1. your sequence reads\n",
    "2. a database of bacterial genomes\n",
    "3. a taxonomy\n",
    "\n",
    "Your sequence reads are the `*.fastq.gz` files. \n",
    "\n",
    "We provide a database of bacterial genomes\n",
    "\n",
    "The taxonomy is a way to work out what species are represented by the data base sequences matching your genome sequence reads. This taxonomy is sometimes called 'taxdump` in manuals and help sites."
   ]
  },
  {
   "attachments": {},
   "cell_type": "markdown",
   "metadata": {},
   "source": [
    "## 1.2 Displaying the results"
   ]
  },
  {
   "attachments": {},
   "cell_type": "markdown",
   "metadata": {},
   "source": [
    "![image](images/recentrifuge.png)"
   ]
  },
  {
   "attachments": {},
   "cell_type": "markdown",
   "metadata": {},
   "source": [
    "We are going to display the results graphically using the [Recentrifuge software](https://github.com/khyox/recentrifuge). This produces interactive concentric pie charts to represent the quantity and hierarchical taxonomic classification of reads.\n",
    "\n",
    "If you wish to see the sort of interactive diagrams produced here is an [example report](https://rawgit.com/khyox/rcf-aux/master/TEST.rcf.html?dataset=5&node=0&collapse=false&color=true&depth=30&font=12&key=true).\n",
    "\n",
    "Martí JM. Recentrifuge: Robust comparative analysis and contamination removal for metagenomics. PLoS Comput Biol. 2019;15: e1006967. doi:[10.1371/journal.pcbi.1006967](https://dx.doi.org/10.1371/journal.pcbi.1006967)"
   ]
  },
  {
   "attachments": {},
   "cell_type": "markdown",
   "metadata": {},
   "source": [
    "You should now have evidence for the taxonomic ID of all your sequence reads and be able to describe the likely source of our DNA to species, and describe the level of contamination in our DNA sequence, including human contamination.\n",
    "\n",
    "**Are you going to use a static version of this figure in your manuscript? What do you want it to show? Have you got the settings right, and exported a copy?**\n",
    "\n",
    "**Write a paragraph describing this and pass to another students for feedback. Re-write your paragrpah and get feedback from a demonstrator**"
   ]
  },
  {
   "attachments": {},
   "cell_type": "markdown",
   "metadata": {},
   "source": [
    "### Questions"
   ]
  },
  {
   "attachments": {},
   "cell_type": "markdown",
   "metadata": {},
   "source": [
    "1. What percentage of your reads are human?\n",
    "2. What percentage of reads are 'unknown' and what does this mean?\n",
    "3. what percentage of reads are E. coli?\n",
    "4. What percentage of reads are other bacteria (not E. coli) and what are the possible explanations for this?"
   ]
  },
  {
   "attachments": {},
   "cell_type": "markdown",
   "metadata": {},
   "source": [
    "Discuss these questions among yourselves, and make notes in your lab books."
   ]
  }
 ],
 "metadata": {
  "language_info": {
   "name": "python"
  },
  "orig_nbformat": 4
 },
 "nbformat": 4,
 "nbformat_minor": 2
}
