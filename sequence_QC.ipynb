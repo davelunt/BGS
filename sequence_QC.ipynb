{
 "cells": [
  {
   "attachments": {},
   "cell_type": "markdown",
   "metadata": {},
   "source": [
    "# Analysis and Quality Control of Sequence Data"
   ]
  },
  {
   "attachments": {},
   "cell_type": "markdown",
   "metadata": {},
   "source": [
    "## This Week's Work"
   ]
  },
  {
   "attachments": {},
   "cell_type": "markdown",
   "metadata": {},
   "source": [
    "You have already sequenced your bacterial DNA preparation last term. The nanopore data has been base called turning the current fluctations into predictions of nucleotides. These have been written to `.fastq` files incorporating the sequence and the base quality (confidence)."
   ]
  },
  {
   "attachments": {},
   "cell_type": "markdown",
   "metadata": {},
   "source": [
    "In this next section of work you need to characterise this data to determine statistics like: how many files, how many sequences in each, how many sequences in total, lenghts of sequences etc etc"
   ]
  },
  {
   "attachments": {},
   "cell_type": "markdown",
   "metadata": {},
   "source": [
    "Once this is done we can discuss the data and carry out some quality control (QC) to remove sequences not meeting our data standards."
   ]
  },
  {
   "attachments": {},
   "cell_type": "markdown",
   "metadata": {},
   "source": [
    "We will then be able to assemble this data into a bacterial genome"
   ]
  },
  {
   "attachments": {},
   "cell_type": "markdown",
   "metadata": {},
   "source": [
    "Next you will need to characterise this genome just as you did the original sequences asking perhaps how many contigs are present, how long they are, how many sequence reads they represent."
   ]
  },
  {
   "attachments": {},
   "cell_type": "markdown",
   "metadata": {},
   "source": [
    "Finally you should prepare figures and tables from your charcterisations as these will be a very important part of your Results section in the manuscript."
   ]
  },
  {
   "attachments": {},
   "cell_type": "markdown",
   "metadata": {},
   "source": [
    "## Competencies"
   ]
  },
  {
   "attachments": {},
   "cell_type": "markdown",
   "metadata": {},
   "source": [
    "You have already uploaded your first competency, the introduction to the unix command line notebook PDF demonstrating your competency at data manipulation. \n",
    "\n",
    "**The remaining competency is to produce appropriate tabular and/or graphical descriptions of your sequence and assembly data.**\n",
    "\n",
    "I have added an assignment on Canvas for you to upload these. Please take the opportunity to get 1-on-1 feedback on your work at the end of the week.\n",
    "\n",
    "The format of these is for you to determine. I would imagine that most students would have approx 2 tables and 1-2 figures on 1-2 pages. You might want to produce these like paper figures/tables with good legends, then they will be ready to go directly into your final manuscript if you wish."
   ]
  },
  {
   "attachments": {},
   "cell_type": "markdown",
   "metadata": {},
   "source": [
    "## 1 Characterising Your Data"
   ]
  },
  {
   "attachments": {},
   "cell_type": "markdown",
   "metadata": {},
   "source": [
    "Many of the skills you will need to characterise you sequence data you have already deployed in the \"introduction to the unix command line\" sessions."
   ]
  },
  {
   "attachments": {},
   "cell_type": "markdown",
   "metadata": {},
   "source": [
    "### 1.1 fastq format files"
   ]
  },
  {
   "attachments": {},
   "cell_type": "markdown",
   "metadata": {},
   "source": [
    "**You will need to read and understand the following section** "
   ]
  },
  {
   "attachments": {},
   "cell_type": "markdown",
   "metadata": {},
   "source": [
    "fastq is a standard file format similar to fasta. It is used for data coming off of seqencing machines and is typically later transformed into the slightly simpler fasta file format."
   ]
  },
  {
   "attachments": {},
   "cell_type": "markdown",
   "metadata": {},
   "source": [
    "fastq files contain a base quality value associated with each nucleotide position. This is sometimes called a Phred quality score. This allows the researcher to quality control the sequencing data by removing sequences with too low an average score, or trimming sequences when the score falls below a threshold value."
   ]
  },
  {
   "attachments": {},
   "cell_type": "markdown",
   "metadata": {},
   "source": [
    "Fasta files represent each sequence record on 2 lines: the header beginning with a `>` and a new sequence line following it. Each fastq file records a sequence record on 4 lines"
   ]
  },
  {
   "attachments": {},
   "cell_type": "markdown",
   "metadata": {},
   "source": [
    "![image](images/fastq_fig.png)"
   ]
  },
  {
   "attachments": {},
   "cell_type": "markdown",
   "metadata": {},
   "source": [
    "*Figure 7.2 from Akalin \"Computational Genomics with R\"*"
   ]
  },
  {
   "attachments": {},
   "cell_type": "markdown",
   "metadata": {},
   "source": [
    "```\n",
    "@<identifier and expected information>\n",
    "<sequence>\n",
    "+<identifier and other information OR empty string>\n",
    "<quality>\n",
    "```"
   ]
  },
  {
   "attachments": {},
   "cell_type": "markdown",
   "metadata": {},
   "source": [
    "Line 1: this is a header line beginning with `@` and followed by an identifier \"HWI-EAS209_006_FC706VJ\" and other information\n",
    "\n",
    "Line 2: the sequence\n",
    "\n",
    "Line 3: begine with `+` and marks the end of the sequence data. Might also have the same identifier as line 1\n",
    "\n",
    "Line 4: symbols encoding the quality value of each nucleotide in line 2. These are Phred quality scores and represent the probability of a wrong base call. Each ascii symbol represents a specific numerical value in order to save space. If you wish, you can look up the symbols and quality scores [at this link](https://support.illumina.com/help/BaseSpace_OLH_009008/Content/Source/Informatics/BS/QualityScoreEncoding_swBS.htm)"
   ]
  },
  {
   "attachments": {},
   "cell_type": "markdown",
   "metadata": {},
   "source": [
    "Here is a brief summary of Phred quality scores. Note that the numbers are logarithmic so Q30 is 10 times better than Q20"
   ]
  },
  {
   "attachments": {},
   "cell_type": "markdown",
   "metadata": {},
   "source": [
    "```\n",
    "Phred   Error-rate    Accuracy\n",
    "\n",
    " 10     1 of 10        90%       # very low quality\n",
    "\n",
    " 20     1 of 100       99%       # minimum quality for many tools\n",
    "\n",
    " 30     1 of 1000      99.9%     # reasonable good quality\n",
    "\n",
    " 40     1 of 10000     99.99%    # high quality\n",
    "\n",
    " 50     1 of 100000    99.999%   # very high quality\n",
    " ```"
   ]
  },
  {
   "attachments": {},
   "cell_type": "markdown",
   "metadata": {},
   "source": [
    "## 1.2 Documenting your data"
   ]
  },
  {
   "attachments": {},
   "cell_type": "markdown",
   "metadata": {},
   "source": [
    "All science must clearly describe what has been done to what data in order to produce the results. It is essential that you know your data, and you will now characterise it.\n",
    "\n",
    "Questions you might ask include:\n",
    "1. How many fastq files do you have?\n",
    "2. How many sequences are present in each file?\n",
    "3. How long are the sequences on average, and what is their total length?"
   ]
  },
  {
   "attachments": {},
   "cell_type": "markdown",
   "metadata": {},
   "source": [
    "Fortunately you have already developed many of the big-data skills to work this out quickly and accurately.\n",
    "\n",
    "Although you already know more than one way to count files and sequences I would suggest best-practice is to make text files where key data is recorded. That way it will be easy to do further analysis, and easy to create tables."
   ]
  },
  {
   "attachments": {},
   "cell_type": "markdown",
   "metadata": {},
   "source": [
    "### 1.2.1 Create a list of fastq file names"
   ]
  },
  {
   "attachments": {},
   "cell_type": "markdown",
   "metadata": {},
   "source": [
    "If you need to look back at the syntax you should check out \"intro_to_unix_command_line.ipynb\" section 5.3"
   ]
  },
  {
   "attachments": {},
   "cell_type": "markdown",
   "metadata": {},
   "source": [
    "Write an `echo` command to write the filename of every `.fastq` file to a new text file with an appropriate name"
   ]
  },
  {
   "cell_type": "code",
   "execution_count": null,
   "metadata": {
    "vscode": {
     "languageId": "plaintext"
    }
   },
   "outputs": [],
   "source": []
  },
  {
   "attachments": {},
   "cell_type": "markdown",
   "metadata": {},
   "source": [
    "Use word count to determine how many lines this file has, which should be the same as the number of files"
   ]
  },
  {
   "cell_type": "code",
   "execution_count": null,
   "metadata": {
    "vscode": {
     "languageId": "plaintext"
    }
   },
   "outputs": [],
   "source": []
  },
  {
   "attachments": {},
   "cell_type": "markdown",
   "metadata": {},
   "source": [
    "### 1.2.2 Counting the number of sequence records in a fastq file"
   ]
  },
  {
   "attachments": {},
   "cell_type": "markdown",
   "metadata": {},
   "source": [
    "For each of these files you can now count the number of fastq sequence records they contain. There are several ways you could do this, but a simple one is to understand that each fastq sequence record is 4 lines, so counting the lines and dividing by 4 should give the answer."
   ]
  },
  {
   "attachments": {},
   "cell_type": "markdown",
   "metadata": {},
   "source": [
    "You previously saw how to do this for a fasta file with `echo`. The fastq files provided for you are slightly more complicated, but its the same approach. The 2 examples below should be mostly familiar but with a few additions:"
   ]
  },
  {
   "attachments": {},
   "cell_type": "markdown",
   "metadata": {},
   "source": [
    "#yourfile.fastq\n",
    "\n",
    "`echo $(cat yourfile.fastq|wc -l)/4|bc`\n",
    "\n",
    "#yourfile.fastq.gz\n",
    "\n",
    "`echo $(zcat yourfile.fastq.gz|wc -l)/4|bc`"
   ]
  },
  {
   "attachments": {},
   "cell_type": "markdown",
   "metadata": {},
   "source": [
    "The `$` is used to keep track of the value found. \n",
    "\n",
    "`wc -l` counts the number of lines\n",
    "\n",
    "The final `|bc` pipes the data to a command line calculator, required because we're dividing by 4\n",
    "\n",
    "`zcat` is the same as `cat` but works on compressed data like `.fastq.gz`"
   ]
  },
  {
   "attachments": {},
   "cell_type": "markdown",
   "metadata": {},
   "source": [
    "Give it a go and see if you can find the number of records in a fastq file"
   ]
  },
  {
   "cell_type": "code",
   "execution_count": null,
   "metadata": {
    "vscode": {
     "languageId": "plaintext"
    }
   },
   "outputs": [],
   "source": []
  },
  {
   "attachments": {},
   "cell_type": "markdown",
   "metadata": {},
   "source": [
    "### 1.2.3 scaling the approach"
   ]
  },
  {
   "attachments": {},
   "cell_type": "markdown",
   "metadata": {},
   "source": [
    "Good work, you now know the number of sequences in your fastq file. The problem is that you have a lot of these and it is tedious and error-prone to repeat this so many times. Fortunately you already know how to automate it by using wildcards!"
   ]
  },
  {
   "attachments": {},
   "cell_type": "markdown",
   "metadata": {},
   "source": [
    "Modify the `echo` command from before to process all the `.fastq.gz` files in the directory."
   ]
  },
  {
   "cell_type": "code",
   "execution_count": null,
   "metadata": {
    "vscode": {
     "languageId": "plaintext"
    }
   },
   "outputs": [],
   "source": []
  },
  {
   "attachments": {},
   "cell_type": "markdown",
   "metadata": {},
   "source": [
    "Good, but in order to record and preserve the data you should write this to a file"
   ]
  },
  {
   "cell_type": "code",
   "execution_count": null,
   "metadata": {
    "vscode": {
     "languageId": "plaintext"
    }
   },
   "outputs": [],
   "source": []
  },
  {
   "attachments": {},
   "cell_type": "markdown",
   "metadata": {},
   "source": [
    "### 1.2.4 Formatting the output"
   ]
  },
  {
   "attachments": {},
   "cell_type": "markdown",
   "metadata": {},
   "source": [
    "Excellent. The problem you have is that your file names and their sequence record counts are now in different text files. You really need these together so that you can construct a table. Fortunately you already know how to do this!\n",
    "\n",
    "In section 5.3 of the previous notebook it taught you how to introduce tabs (`\\t`) and line breaks (`\\n`). You could now write a command that uses `echo` to write the `.fastq.gz` filename to a new file, followed by a tab, followed by the number of sequence records in that file, followed by a newline. \n",
    "\n",
    "You could (optionally) give that a go below, I'm sure some of you are up for the challenge! I'd be interested to see how you do it."
   ]
  },
  {
   "cell_type": "code",
   "execution_count": null,
   "metadata": {
    "vscode": {
     "languageId": "plaintext"
    }
   },
   "outputs": [],
   "source": []
  },
  {
   "attachments": {},
   "cell_type": "markdown",
   "metadata": {},
   "source": [
    "### 1.2.5 `seqkit` an easier way to characterise sequence data"
   ]
  },
  {
   "attachments": {},
   "cell_type": "markdown",
   "metadata": {},
   "source": [
    "The `echo` command is very powerful, but is starting to get very complex, and complexity can lead to undetected errors. Bioinformaticians therefore try not to reinvent the wheel each time they work, and there are programs which wrap all teh complexity up and make it easier to operate on your data.\n",
    "\n",
    "We are going to use the program `seqkit stats` which will survey and report for us. You can treat it like any of the other programs you have used (`ls`, `cat`, `grep`, `echo`) where you first type the program name and give flags to modify its behaviour and control where it writes the output."
   ]
  },
  {
   "attachments": {},
   "cell_type": "markdown",
   "metadata": {},
   "source": [
    "You can find details of the `seqkit stats` flags and usage at [this link](https://bioinf.shenwei.me/seqkit/usage/#stats)\n",
    "\n",
    "`seqkit stats *.fastq.gz` should provide you with an interesting table"
   ]
  },
  {
   "cell_type": "code",
   "execution_count": null,
   "metadata": {
    "vscode": {
     "languageId": "plaintext"
    }
   },
   "outputs": [],
   "source": []
  },
  {
   "attachments": {},
   "cell_type": "markdown",
   "metadata": {},
   "source": [
    "You can use `> filename.txt` to direct its output from the screen to a file, and the `-T` flag separates by tabs, sometimes allowing you easier formatting at a later date, perhaps in Excel."
   ]
  },
  {
   "cell_type": "code",
   "execution_count": null,
   "metadata": {
    "vscode": {
     "languageId": "plaintext"
    }
   },
   "outputs": [],
   "source": []
  },
  {
   "attachments": {},
   "cell_type": "markdown",
   "metadata": {},
   "source": [
    "The total amount of sequence data you are processing (number of base pairs) is then just the total of the `sum_len` column values."
   ]
  },
  {
   "attachments": {},
   "cell_type": "markdown",
   "metadata": {},
   "source": [
    "You now have answers to the 3 questions from section 1.2 above. Make sure that you document these."
   ]
  },
  {
   "cell_type": "markdown",
   "metadata": {},
   "source": []
  },
  {
   "attachments": {},
   "cell_type": "markdown",
   "metadata": {},
   "source": [
    "## 2. QC of the data"
   ]
  },
  {
   "attachments": {},
   "cell_type": "markdown",
   "metadata": {},
   "source": [
    "Is the data any good? What if 10% is really bad and including it messes everything up? What do we mean by 'bad' and what sort of QC can improve our assembly?"
   ]
  },
  {
   "attachments": {},
   "cell_type": "markdown",
   "metadata": {},
   "source": [
    "The goal of this QC section is to quality control the data so that we are confident we have the best assembly we could have generated with the methods we have chosen. "
   ]
  },
  {
   "attachments": {},
   "cell_type": "markdown",
   "metadata": {},
   "source": [
    "We could have a long conversation about the meaning of \"bad\" data, but here it practically falls into 2 categories:\n",
    "1. sequences with very low Phred quality scores\n",
    "2. sequences that are very short"
   ]
  },
  {
   "attachments": {},
   "cell_type": "markdown",
   "metadata": {},
   "source": [
    "### 2.1 Filtering for low quality scores"
   ]
  },
  {
   "attachments": {},
   "cell_type": "markdown",
   "metadata": {},
   "source": [
    "fastp?"
   ]
  },
  {
   "attachments": {},
   "cell_type": "markdown",
   "metadata": {},
   "source": [
    "### 2.2 Filtering for short length"
   ]
  },
  {
   "cell_type": "markdown",
   "metadata": {},
   "source": []
  },
  {
   "attachments": {},
   "cell_type": "markdown",
   "metadata": {},
   "source": [
    "## 3 Re-characterising the data"
   ]
  },
  {
   "attachments": {},
   "cell_type": "markdown",
   "metadata": {},
   "source": [
    "Now that you have applied QC criteria to the data how has it changed?"
   ]
  },
  {
   "cell_type": "markdown",
   "metadata": {},
   "source": []
  },
  {
   "attachments": {},
   "cell_type": "markdown",
   "metadata": {},
   "source": [
    "### Competencies"
   ]
  },
  {
   "attachments": {},
   "cell_type": "markdown",
   "metadata": {},
   "source": [
    "Your final competency this week is to produce appropriate tabular and/or graphical descriptions of your sequence and assembly data.\n",
    "\n",
    "You have already tablulated your data calculating how many files, how many sequence records, lengths and some other statistics. You have done this before and after QC. What would be an appropriate way to show this in your manuscript? Discuss with your colleagues and throw around a few ideas, make a plan for how to do this.\n",
    "\n",
    "In order to get marks for the competency you need to be clear and concise and focussed. Don't produce 10 pages that are hard to read a couple of simple tables with legends are fine. If you want to do figures too, great.\n",
    "\n",
    "For your final manuscript you may want to polish things up a bit. Don't forget that the Department provide R stats help for all students, so if you are struggling with diagrams then there is a Teams group to help, please ask."
   ]
  },
  {
   "attachments": {},
   "cell_type": "markdown",
   "metadata": {},
   "source": [
    "<HR>"
   ]
  },
  {
   "attachments": {},
   "cell_type": "markdown",
   "metadata": {},
   "source": [
    "## Extra Reading\n",
    "\n",
    "Altuna Akalin. Computational Genomics with R. Free online book. https://compgenomr.github.io/book/"
   ]
  }
 ],
 "metadata": {
  "language_info": {
   "name": "python"
  },
  "orig_nbformat": 4
 },
 "nbformat": 4,
 "nbformat_minor": 2
}
